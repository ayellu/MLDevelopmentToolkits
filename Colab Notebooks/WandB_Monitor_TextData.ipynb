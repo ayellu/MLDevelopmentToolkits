{
  "cells": [
    {
      "cell_type": "code",
      "execution_count": null,
      "metadata": {
        "colab": {
          "base_uri": "https://localhost:8080/"
        },
        "id": "JfseD4lofUbo",
        "outputId": "c9687190-102f-4004-fa04-62b00f29beb5"
      },
      "outputs": [
        {
          "output_type": "stream",
          "name": "stdout",
          "text": [
            "Collecting neptune-client\n",
            "  Downloading neptune-client-0.13.4.tar.gz (276 kB)\n",
            "\u001b[?25l\r\u001b[K     |█▏                              | 10 kB 14.4 MB/s eta 0:00:01\r\u001b[K     |██▍                             | 20 kB 9.8 MB/s eta 0:00:01\r\u001b[K     |███▌                            | 30 kB 7.0 MB/s eta 0:00:01\r\u001b[K     |████▊                           | 40 kB 4.6 MB/s eta 0:00:01\r\u001b[K     |██████                          | 51 kB 4.6 MB/s eta 0:00:01\r\u001b[K     |███████                         | 61 kB 4.8 MB/s eta 0:00:01\r\u001b[K     |████████▎                       | 71 kB 4.9 MB/s eta 0:00:01\r\u001b[K     |█████████▌                      | 81 kB 5.5 MB/s eta 0:00:01\r\u001b[K     |██████████▋                     | 92 kB 5.7 MB/s eta 0:00:01\r\u001b[K     |███████████▉                    | 102 kB 4.7 MB/s eta 0:00:01\r\u001b[K     |█████████████                   | 112 kB 4.7 MB/s eta 0:00:01\r\u001b[K     |██████████████▏                 | 122 kB 4.7 MB/s eta 0:00:01\r\u001b[K     |███████████████▍                | 133 kB 4.7 MB/s eta 0:00:01\r\u001b[K     |████████████████▋               | 143 kB 4.7 MB/s eta 0:00:01\r\u001b[K     |█████████████████▊              | 153 kB 4.7 MB/s eta 0:00:01\r\u001b[K     |███████████████████             | 163 kB 4.7 MB/s eta 0:00:01\r\u001b[K     |████████████████████▏           | 174 kB 4.7 MB/s eta 0:00:01\r\u001b[K     |█████████████████████▎          | 184 kB 4.7 MB/s eta 0:00:01\r\u001b[K     |██████████████████████▌         | 194 kB 4.7 MB/s eta 0:00:01\r\u001b[K     |███████████████████████▊        | 204 kB 4.7 MB/s eta 0:00:01\r\u001b[K     |████████████████████████▉       | 215 kB 4.7 MB/s eta 0:00:01\r\u001b[K     |██████████████████████████      | 225 kB 4.7 MB/s eta 0:00:01\r\u001b[K     |███████████████████████████▎    | 235 kB 4.7 MB/s eta 0:00:01\r\u001b[K     |████████████████████████████▍   | 245 kB 4.7 MB/s eta 0:00:01\r\u001b[K     |█████████████████████████████▋  | 256 kB 4.7 MB/s eta 0:00:01\r\u001b[K     |██████████████████████████████▉ | 266 kB 4.7 MB/s eta 0:00:01\r\u001b[K     |████████████████████████████████| 276 kB 4.7 MB/s eta 0:00:01\r\u001b[K     |████████████████████████████████| 276 kB 4.7 MB/s \n",
            "\u001b[?25hRequirement already satisfied: tensorflow in /usr/local/lib/python3.7/dist-packages (2.7.0)\n",
            "Collecting bravado\n",
            "  Downloading bravado-11.0.3-py2.py3-none-any.whl (38 kB)\n",
            "Requirement already satisfied: click>=7.0 in /usr/local/lib/python3.7/dist-packages (from neptune-client) (7.1.2)\n",
            "Collecting future>=0.17.1\n",
            "  Downloading future-0.18.2.tar.gz (829 kB)\n",
            "\u001b[K     |████████████████████████████████| 829 kB 43.7 MB/s \n",
            "\u001b[?25hRequirement already satisfied: oauthlib>=2.1.0 in /usr/local/lib/python3.7/dist-packages (from neptune-client) (3.1.1)\n",
            "Requirement already satisfied: pandas in /usr/local/lib/python3.7/dist-packages (from neptune-client) (1.1.5)\n",
            "Requirement already satisfied: Pillow>=1.1.6 in /usr/local/lib/python3.7/dist-packages (from neptune-client) (7.1.2)\n",
            "Collecting PyJWT\n",
            "  Downloading PyJWT-2.3.0-py3-none-any.whl (16 kB)\n",
            "Requirement already satisfied: requests>=2.20.0 in /usr/local/lib/python3.7/dist-packages (from neptune-client) (2.23.0)\n",
            "Requirement already satisfied: requests-oauthlib>=1.0.0 in /usr/local/lib/python3.7/dist-packages (from neptune-client) (1.3.0)\n",
            "Requirement already satisfied: six>=1.12.0 in /usr/local/lib/python3.7/dist-packages (from neptune-client) (1.15.0)\n",
            "Collecting websocket-client!=1.0.0,>=0.35.0\n",
            "  Downloading websocket_client-1.2.3-py3-none-any.whl (53 kB)\n",
            "\u001b[K     |████████████████████████████████| 53 kB 1.8 MB/s \n",
            "\u001b[?25hCollecting GitPython>=2.0.8\n",
            "  Downloading GitPython-3.1.24-py3-none-any.whl (180 kB)\n",
            "\u001b[K     |████████████████████████████████| 180 kB 49.9 MB/s \n",
            "\u001b[?25hCollecting boto3>=1.16.0\n",
            "  Downloading boto3-1.20.23-py3-none-any.whl (131 kB)\n",
            "\u001b[K     |████████████████████████████████| 131 kB 52.0 MB/s \n",
            "\u001b[?25hRequirement already satisfied: packaging in /usr/local/lib/python3.7/dist-packages (from neptune-client) (21.3)\n",
            "Requirement already satisfied: urllib3 in /usr/local/lib/python3.7/dist-packages (from neptune-client) (1.24.3)\n",
            "Requirement already satisfied: jsonschema<4 in /usr/local/lib/python3.7/dist-packages (from neptune-client) (2.6.0)\n",
            "Requirement already satisfied: psutil in /usr/local/lib/python3.7/dist-packages (from neptune-client) (5.4.8)\n",
            "Collecting botocore<1.24.0,>=1.23.23\n",
            "  Downloading botocore-1.23.23-py3-none-any.whl (8.4 MB)\n",
            "\u001b[K     |████████████████████████████████| 8.4 MB 30.6 MB/s \n",
            "\u001b[?25hCollecting jmespath<1.0.0,>=0.7.1\n",
            "  Downloading jmespath-0.10.0-py2.py3-none-any.whl (24 kB)\n",
            "Collecting s3transfer<0.6.0,>=0.5.0\n",
            "  Downloading s3transfer-0.5.0-py3-none-any.whl (79 kB)\n",
            "\u001b[K     |████████████████████████████████| 79 kB 7.8 MB/s \n",
            "\u001b[?25hCollecting urllib3\n",
            "  Downloading urllib3-1.26.7-py2.py3-none-any.whl (138 kB)\n",
            "\u001b[K     |████████████████████████████████| 138 kB 30.2 MB/s \n",
            "\u001b[?25hRequirement already satisfied: python-dateutil<3.0.0,>=2.1 in /usr/local/lib/python3.7/dist-packages (from botocore<1.24.0,>=1.23.23->boto3>=1.16.0->neptune-client) (2.8.2)\n",
            "Collecting gitdb<5,>=4.0.1\n",
            "  Downloading gitdb-4.0.9-py3-none-any.whl (63 kB)\n",
            "\u001b[K     |████████████████████████████████| 63 kB 1.7 MB/s \n",
            "\u001b[?25hRequirement already satisfied: typing-extensions>=3.7.4.3 in /usr/local/lib/python3.7/dist-packages (from GitPython>=2.0.8->neptune-client) (3.10.0.2)\n",
            "Collecting smmap<6,>=3.0.1\n",
            "  Downloading smmap-5.0.0-py3-none-any.whl (24 kB)\n",
            "Requirement already satisfied: idna<3,>=2.5 in /usr/local/lib/python3.7/dist-packages (from requests>=2.20.0->neptune-client) (2.10)\n",
            "Requirement already satisfied: chardet<4,>=3.0.2 in /usr/local/lib/python3.7/dist-packages (from requests>=2.20.0->neptune-client) (3.0.4)\n",
            "Requirement already satisfied: certifi>=2017.4.17 in /usr/local/lib/python3.7/dist-packages (from requests>=2.20.0->neptune-client) (2021.10.8)\n",
            "Collecting urllib3\n",
            "  Downloading urllib3-1.25.11-py2.py3-none-any.whl (127 kB)\n",
            "\u001b[K     |████████████████████████████████| 127 kB 45.0 MB/s \n",
            "\u001b[?25hRequirement already satisfied: tensorflow-io-gcs-filesystem>=0.21.0 in /usr/local/lib/python3.7/dist-packages (from tensorflow) (0.22.0)\n",
            "Requirement already satisfied: flatbuffers<3.0,>=1.12 in /usr/local/lib/python3.7/dist-packages (from tensorflow) (2.0)\n",
            "Requirement already satisfied: libclang>=9.0.1 in /usr/local/lib/python3.7/dist-packages (from tensorflow) (12.0.0)\n",
            "Requirement already satisfied: h5py>=2.9.0 in /usr/local/lib/python3.7/dist-packages (from tensorflow) (3.1.0)\n",
            "Requirement already satisfied: wheel<1.0,>=0.32.0 in /usr/local/lib/python3.7/dist-packages (from tensorflow) (0.37.0)\n",
            "Requirement already satisfied: tensorflow-estimator<2.8,~=2.7.0rc0 in /usr/local/lib/python3.7/dist-packages (from tensorflow) (2.7.0)\n",
            "Requirement already satisfied: opt-einsum>=2.3.2 in /usr/local/lib/python3.7/dist-packages (from tensorflow) (3.3.0)\n",
            "Requirement already satisfied: absl-py>=0.4.0 in /usr/local/lib/python3.7/dist-packages (from tensorflow) (0.12.0)\n",
            "Requirement already satisfied: keras<2.8,>=2.7.0rc0 in /usr/local/lib/python3.7/dist-packages (from tensorflow) (2.7.0)\n",
            "Requirement already satisfied: gast<0.5.0,>=0.2.1 in /usr/local/lib/python3.7/dist-packages (from tensorflow) (0.4.0)\n",
            "Requirement already satisfied: astunparse>=1.6.0 in /usr/local/lib/python3.7/dist-packages (from tensorflow) (1.6.3)\n",
            "Requirement already satisfied: keras-preprocessing>=1.1.1 in /usr/local/lib/python3.7/dist-packages (from tensorflow) (1.1.2)\n",
            "Requirement already satisfied: tensorboard~=2.6 in /usr/local/lib/python3.7/dist-packages (from tensorflow) (2.7.0)\n",
            "Requirement already satisfied: protobuf>=3.9.2 in /usr/local/lib/python3.7/dist-packages (from tensorflow) (3.17.3)\n",
            "Requirement already satisfied: google-pasta>=0.1.1 in /usr/local/lib/python3.7/dist-packages (from tensorflow) (0.2.0)\n",
            "Requirement already satisfied: termcolor>=1.1.0 in /usr/local/lib/python3.7/dist-packages (from tensorflow) (1.1.0)\n",
            "Requirement already satisfied: numpy>=1.14.5 in /usr/local/lib/python3.7/dist-packages (from tensorflow) (1.19.5)\n",
            "Requirement already satisfied: wrapt>=1.11.0 in /usr/local/lib/python3.7/dist-packages (from tensorflow) (1.13.3)\n",
            "Requirement already satisfied: grpcio<2.0,>=1.24.3 in /usr/local/lib/python3.7/dist-packages (from tensorflow) (1.42.0)\n",
            "Requirement already satisfied: cached-property in /usr/local/lib/python3.7/dist-packages (from h5py>=2.9.0->tensorflow) (1.5.2)\n",
            "Requirement already satisfied: setuptools>=41.0.0 in /usr/local/lib/python3.7/dist-packages (from tensorboard~=2.6->tensorflow) (57.4.0)\n",
            "Requirement already satisfied: werkzeug>=0.11.15 in /usr/local/lib/python3.7/dist-packages (from tensorboard~=2.6->tensorflow) (1.0.1)\n",
            "Requirement already satisfied: tensorboard-data-server<0.7.0,>=0.6.0 in /usr/local/lib/python3.7/dist-packages (from tensorboard~=2.6->tensorflow) (0.6.1)\n",
            "Requirement already satisfied: tensorboard-plugin-wit>=1.6.0 in /usr/local/lib/python3.7/dist-packages (from tensorboard~=2.6->tensorflow) (1.8.0)\n",
            "Requirement already satisfied: markdown>=2.6.8 in /usr/local/lib/python3.7/dist-packages (from tensorboard~=2.6->tensorflow) (3.3.6)\n",
            "Requirement already satisfied: google-auth<3,>=1.6.3 in /usr/local/lib/python3.7/dist-packages (from tensorboard~=2.6->tensorflow) (1.35.0)\n",
            "Requirement already satisfied: google-auth-oauthlib<0.5,>=0.4.1 in /usr/local/lib/python3.7/dist-packages (from tensorboard~=2.6->tensorflow) (0.4.6)\n",
            "Requirement already satisfied: rsa<5,>=3.1.4 in /usr/local/lib/python3.7/dist-packages (from google-auth<3,>=1.6.3->tensorboard~=2.6->tensorflow) (4.8)\n",
            "Requirement already satisfied: cachetools<5.0,>=2.0.0 in /usr/local/lib/python3.7/dist-packages (from google-auth<3,>=1.6.3->tensorboard~=2.6->tensorflow) (4.2.4)\n",
            "Requirement already satisfied: pyasn1-modules>=0.2.1 in /usr/local/lib/python3.7/dist-packages (from google-auth<3,>=1.6.3->tensorboard~=2.6->tensorflow) (0.2.8)\n",
            "Requirement already satisfied: importlib-metadata>=4.4 in /usr/local/lib/python3.7/dist-packages (from markdown>=2.6.8->tensorboard~=2.6->tensorflow) (4.8.2)\n",
            "Requirement already satisfied: zipp>=0.5 in /usr/local/lib/python3.7/dist-packages (from importlib-metadata>=4.4->markdown>=2.6.8->tensorboard~=2.6->tensorflow) (3.6.0)\n",
            "Requirement already satisfied: pyasn1<0.5.0,>=0.4.6 in /usr/local/lib/python3.7/dist-packages (from pyasn1-modules>=0.2.1->google-auth<3,>=1.6.3->tensorboard~=2.6->tensorflow) (0.4.8)\n",
            "Requirement already satisfied: msgpack in /usr/local/lib/python3.7/dist-packages (from bravado->neptune-client) (1.0.3)\n",
            "Collecting monotonic\n",
            "  Downloading monotonic-1.6-py2.py3-none-any.whl (8.2 kB)\n",
            "Collecting bravado-core>=5.16.1\n",
            "  Downloading bravado_core-5.17.0-py2.py3-none-any.whl (67 kB)\n",
            "\u001b[K     |████████████████████████████████| 67 kB 5.5 MB/s \n",
            "\u001b[?25hRequirement already satisfied: pyyaml in /usr/local/lib/python3.7/dist-packages (from bravado->neptune-client) (3.13)\n",
            "Collecting simplejson\n",
            "  Downloading simplejson-3.17.6-cp37-cp37m-manylinux_2_5_x86_64.manylinux1_x86_64.manylinux_2_12_x86_64.manylinux2010_x86_64.whl (130 kB)\n",
            "\u001b[K     |████████████████████████████████| 130 kB 34.3 MB/s \n",
            "\u001b[?25hRequirement already satisfied: pytz in /usr/local/lib/python3.7/dist-packages (from bravado-core>=5.16.1->bravado->neptune-client) (2018.9)\n",
            "Collecting swagger-spec-validator>=2.0.1\n",
            "  Downloading swagger_spec_validator-2.7.4-py2.py3-none-any.whl (27 kB)\n",
            "Collecting jsonref\n",
            "  Downloading jsonref-0.2-py3-none-any.whl (9.3 kB)\n",
            "Collecting rfc3987\n",
            "  Downloading rfc3987-1.3.8-py2.py3-none-any.whl (13 kB)\n",
            "Collecting strict-rfc3339\n",
            "  Downloading strict-rfc3339-0.7.tar.gz (17 kB)\n",
            "Collecting webcolors\n",
            "  Downloading webcolors-1.11.1-py3-none-any.whl (9.9 kB)\n",
            "Requirement already satisfied: pyparsing!=3.0.5,>=2.0.2 in /usr/local/lib/python3.7/dist-packages (from packaging->neptune-client) (3.0.6)\n",
            "Building wheels for collected packages: neptune-client, future, strict-rfc3339\n",
            "  Building wheel for neptune-client (setup.py) ... \u001b[?25l\u001b[?25hdone\n",
            "  Created wheel for neptune-client: filename=neptune_client-0.13.4-py2.py3-none-any.whl size=482050 sha256=8f23b010007586e2222fd29e71ed1fb0eb0842f20133c6d33f076aa03b0ef5f3\n",
            "  Stored in directory: /root/.cache/pip/wheels/fc/17/37/629a8f34208856cf7a76d16304dd27d8ca783d08ae853320d0\n",
            "  Building wheel for future (setup.py) ... \u001b[?25l\u001b[?25hdone\n",
            "  Created wheel for future: filename=future-0.18.2-py3-none-any.whl size=491070 sha256=18b01be4b3eb1a6746862153e00bde811e1d1631fdb40aa6836996af1102d0c2\n",
            "  Stored in directory: /root/.cache/pip/wheels/56/b0/fe/4410d17b32f1f0c3cf54cdfb2bc04d7b4b8f4ae377e2229ba0\n",
            "  Building wheel for strict-rfc3339 (setup.py) ... \u001b[?25l\u001b[?25hdone\n",
            "  Created wheel for strict-rfc3339: filename=strict_rfc3339-0.7-py3-none-any.whl size=18149 sha256=d43c4e7d31e0b60e8e5f4b04d4c9b79cb70adbcb5243773be7b09c6ad06d1957\n",
            "  Stored in directory: /root/.cache/pip/wheels/f3/1d/9f/2a74caecb81b8beb9a4fbe1754203d4b7cf42ef5d39e0d2311\n",
            "Successfully built neptune-client future strict-rfc3339\n",
            "Installing collected packages: urllib3, webcolors, strict-rfc3339, rfc3987, jmespath, swagger-spec-validator, smmap, simplejson, jsonref, botocore, s3transfer, monotonic, gitdb, bravado-core, websocket-client, PyJWT, GitPython, future, bravado, boto3, neptune-client\n",
            "  Attempting uninstall: urllib3\n",
            "    Found existing installation: urllib3 1.24.3\n",
            "    Uninstalling urllib3-1.24.3:\n",
            "      Successfully uninstalled urllib3-1.24.3\n",
            "  Attempting uninstall: future\n",
            "    Found existing installation: future 0.16.0\n",
            "    Uninstalling future-0.16.0:\n",
            "      Successfully uninstalled future-0.16.0\n",
            "\u001b[31mERROR: pip's dependency resolver does not currently take into account all the packages that are installed. This behaviour is the source of the following dependency conflicts.\n",
            "datascience 0.10.6 requires folium==0.2.1, but you have folium 0.8.3 which is incompatible.\u001b[0m\n",
            "Successfully installed GitPython-3.1.24 PyJWT-2.3.0 boto3-1.20.23 botocore-1.23.23 bravado-11.0.3 bravado-core-5.17.0 future-0.18.2 gitdb-4.0.9 jmespath-0.10.0 jsonref-0.2 monotonic-1.6 neptune-client-0.13.4 rfc3987-1.3.8 s3transfer-0.5.0 simplejson-3.17.6 smmap-5.0.0 strict-rfc3339-0.7 swagger-spec-validator-2.7.4 urllib3-1.25.11 webcolors-1.11.1 websocket-client-1.2.3\n"
          ]
        }
      ],
      "source": [
        "#installing dependecies\n",
        "!pip install neptune-client tensorflow"
      ]
    },
    {
      "cell_type": "code",
      "execution_count": null,
      "metadata": {
        "colab": {
          "base_uri": "https://localhost:8080/"
        },
        "id": "H8i27gkqio0C",
        "outputId": "cffa9f67-d457-43b0-9c42-fd7eb9c2a00a"
      },
      "outputs": [
        {
          "output_type": "stream",
          "name": "stdout",
          "text": [
            "Downloading data from https://storage.googleapis.com/tensorflow/tf-keras-datasets/imdb.npz\n",
            "17465344/17464789 [==============================] - 0s 0us/step\n",
            "17473536/17464789 [==============================] - 0s 0us/step\n",
            "Categories: [0 1]\n",
            "Number of unique words: 9998\n",
            "Average Review length: 234.75892\n",
            "Standard Deviation: 173\n"
          ]
        }
      ],
      "source": [
        "import numpy as np\n",
        "import tensorflow.keras as keras\n",
        "from tensorflow.keras.utils  import to_categorical\n",
        "from keras import models\n",
        "from keras import layers\n",
        "\n",
        "PARAMS = {'epoch_nr': 100,\n",
        "          'batch_size': 256,\n",
        "          'lr': 0.005,\n",
        "          'momentum': 0.4,\n",
        "          'use_nesterov': True,\n",
        "          'unit_nr': 256,\n",
        "          'dropout': 0.05}\n",
        "imdb = keras.datasets.imdb\n",
        "(training_data, training_targets), (testing_data, testing_targets) = imdb.load_data(num_words=10000)\n",
        "data = np.concatenate((training_data, testing_data), axis=0)\n",
        "targets = np.concatenate((training_targets, testing_targets), axis=0)\n",
        "print(\"Categories:\", np.unique(targets))\n",
        "print(\"Number of unique words:\", len(np.unique(np.hstack(data))))\n",
        "\n",
        "length = [len(i) for i in data]\n",
        "print(\"Average Review length:\", np.mean(length))\n",
        "print(\"Standard Deviation:\", round(np.std(length)))"
      ]
    },
    {
      "cell_type": "code",
      "execution_count": null,
      "metadata": {
        "colab": {
          "base_uri": "https://localhost:8080/"
        },
        "id": "7hGespNdjFQ8",
        "outputId": "286aa585-9a9f-43a9-d49a-8f55dfdf5757"
      },
      "outputs": [
        {
          "output_type": "stream",
          "name": "stdout",
          "text": [
            "Label of INPUT: 1\n",
            "[1, 14, 22, 16, 43, 530, 973, 1622, 1385, 65, 458, 4468, 66, 3941, 4, 173, 36, 256, 5, 25, 100, 43, 838, 112, 50, 670, 2, 9, 35, 480, 284, 5, 150, 4, 172, 112, 167, 2, 336, 385, 39, 4, 172, 4536, 1111, 17, 546, 38, 13, 447, 4, 192, 50, 16, 6, 147, 2025, 19, 14, 22, 4, 1920, 4613, 469, 4, 22, 71, 87, 12, 16, 43, 530, 38, 76, 15, 13, 1247, 4, 22, 17, 515, 17, 12, 16, 626, 18, 2, 5, 62, 386, 12, 8, 316, 8, 106, 5, 4, 2223, 5244, 16, 480, 66, 3785, 33, 4, 130, 12, 16, 38, 619, 5, 25, 124, 51, 36, 135, 48, 25, 1415, 33, 6, 22, 12, 215, 28, 77, 52, 5, 14, 407, 16, 82, 2, 8, 4, 107, 117, 5952, 15, 256, 4, 2, 7, 3766, 5, 723, 36, 71, 43, 530, 476, 26, 400, 317, 46, 7, 4, 2, 1029, 13, 104, 88, 4, 381, 15, 297, 98, 32, 2071, 56, 26, 141, 6, 194, 7486, 18, 4, 226, 22, 21, 134, 476, 26, 480, 5, 144, 30, 5535, 18, 51, 36, 28, 224, 92, 25, 104, 4, 226, 65, 16, 38, 1334, 88, 12, 16, 283, 5, 16, 4472, 113, 103, 32, 15, 16, 5345, 19, 178, 32]\n"
          ]
        }
      ],
      "source": [
        "print(\"Label of INPUT:\", targets[0])\n",
        "print(data[0])"
      ]
    },
    {
      "cell_type": "code",
      "execution_count": null,
      "metadata": {
        "colab": {
          "base_uri": "https://localhost:8080/"
        },
        "id": "EjmUd_n9jLcU",
        "outputId": "1de03bff-cc8b-4626-e12a-eab5048543da"
      },
      "outputs": [
        {
          "output_type": "stream",
          "name": "stdout",
          "text": [
            "Downloading data from https://storage.googleapis.com/tensorflow/tf-keras-datasets/imdb_word_index.json\n",
            "1646592/1641221 [==============================] - 0s 0us/step\n",
            "1654784/1641221 [==============================] - 0s 0us/step\n",
            "HERE ARE THE DECODED STRINGS\n",
            "# this film was just brilliant casting location scenery story direction everyone's really suited the part they played and you could just imagine being there robert # is an amazing actor and now the same being director # father came from the same scottish island as myself so i loved the fact there was a real connection with this film the witty remarks throughout the film were great it was just brilliant so much that i bought the film as soon as it was released for # and would recommend it to everyone to watch and the fly fishing was amazing really cried at the end it was so sad and you know what they say if you cry at a film it must have been good and this definitely was also # to the two little boy's that played the # of norman and paul they were just brilliant children are often left out of the # list i think because the stars that play them all grown up are such a big profile for the whole film but these children are amazing and should be praised for what they have done don't you think the whole story was so lovely because it was true and was someone's life after all that was shared with us all\n"
          ]
        }
      ],
      "source": [
        "index = imdb.get_word_index()\n",
        "reverse_index = dict([(value, key) for (key, value) in index.items()]) \n",
        "decoded = \" \".join( [reverse_index.get(i - 3, \"#\") for i in data[0]] )\n",
        "print(\"HERE ARE THE DECODED STRINGS\")\n",
        "print(decoded) "
      ]
    },
    {
      "cell_type": "code",
      "execution_count": null,
      "metadata": {
        "id": "Js2PJW8GjQ2D"
      },
      "outputs": [],
      "source": [
        "def vectorize(sequences, dimension = 10000):\n",
        "  results = np.zeros((len(sequences), dimension))\n",
        "  for i, sequence in enumerate(sequences):\n",
        "    results[i, sequence] = 1\n",
        "  return results\n",
        " \n",
        "data = vectorize(data)\n",
        "targets = np.array(targets).astype(\"float32\")"
      ]
    },
    {
      "cell_type": "code",
      "execution_count": null,
      "metadata": {
        "id": "vY9jCSo2jYP5"
      },
      "outputs": [],
      "source": [
        "test_x = data[:10000]\n",
        "test_y = targets[:10000]\n",
        "train_x = data[10000:]\n",
        "train_y = targets[10000:]"
      ]
    },
    {
      "cell_type": "code",
      "execution_count": null,
      "metadata": {
        "colab": {
          "base_uri": "https://localhost:8080/"
        },
        "id": "xbSXdE6RjeYC",
        "outputId": "ca65e116-e37e-4424-d688-436428b67a4e"
      },
      "outputs": [
        {
          "output_type": "stream",
          "name": "stderr",
          "text": [
            "/usr/local/lib/python3.7/dist-packages/keras/optimizer_v2/gradient_descent.py:102: UserWarning: The `lr` argument is deprecated, use `learning_rate` instead.\n",
            "  super(SGD, self).__init__(name, **kwargs)\n"
          ]
        },
        {
          "output_type": "stream",
          "name": "stdout",
          "text": [
            "Model: \"sequential\"\n",
            "_________________________________________________________________\n",
            " Layer (type)                Output Shape              Param #   \n",
            "=================================================================\n",
            " dense (Dense)               (None, 50)                500050    \n",
            "                                                                 \n",
            " dropout (Dropout)           (None, 50)                0         \n",
            "                                                                 \n",
            " dense_1 (Dense)             (None, 50)                2550      \n",
            "                                                                 \n",
            " dropout_1 (Dropout)         (None, 50)                0         \n",
            "                                                                 \n",
            " dense_2 (Dense)             (None, 50)                2550      \n",
            "                                                                 \n",
            " dense_3 (Dense)             (None, 1)                 51        \n",
            "                                                                 \n",
            "=================================================================\n",
            "Total params: 505,201\n",
            "Trainable params: 505,201\n",
            "Non-trainable params: 0\n",
            "_________________________________________________________________\n"
          ]
        }
      ],
      "source": [
        "optimizer = keras.optimizers.SGD(lr=PARAMS['lr'],\n",
        "                                 momentum=PARAMS['momentum'],\n",
        "                                 nesterov=PARAMS['use_nesterov'], )\n",
        "\n",
        "\n",
        "model = models.Sequential()\n",
        "model.add(layers.Dense(50, activation = \"relu\", input_shape=(10000, )))\n",
        "# Hidden - Layers\n",
        "model.add(layers.Dropout(0.3, noise_shape=None, seed=None))\n",
        "model.add(layers.Dense(50, activation = \"relu\"))\n",
        "model.add(layers.Dropout(0.2, noise_shape=None, seed=None))\n",
        "model.add(layers.Dense(50, activation = \"relu\"))\n",
        "# Output- Layer\n",
        "model.add(layers.Dense(1, activation = \"sigmoid\"))\n",
        "model.summary()\n",
        "\n",
        "\n",
        "model.compile(optimizer=optimizer,\n",
        "              loss='binary_crossentropy',\n",
        "              metrics=['accuracy'])\n"
      ]
    },
    {
      "cell_type": "code",
      "execution_count": null,
      "metadata": {
        "colab": {
          "base_uri": "https://localhost:8080/"
        },
        "id": "5gldVqe36A03",
        "outputId": "41ce5f08-f5f9-407e-a15a-86bea65f74c2"
      },
      "outputs": [
        {
          "output_type": "stream",
          "name": "stdout",
          "text": [
            "Collecting wandb\n",
            "  Downloading wandb-0.12.7-py2.py3-none-any.whl (1.7 MB)\n",
            "\u001b[?25l\r\u001b[K     |▏                               | 10 kB 22.1 MB/s eta 0:00:01\r\u001b[K     |▍                               | 20 kB 28.8 MB/s eta 0:00:01\r\u001b[K     |▋                               | 30 kB 13.6 MB/s eta 0:00:01\r\u001b[K     |▊                               | 40 kB 10.1 MB/s eta 0:00:01\r\u001b[K     |█                               | 51 kB 5.5 MB/s eta 0:00:01\r\u001b[K     |█▏                              | 61 kB 5.5 MB/s eta 0:00:01\r\u001b[K     |█▍                              | 71 kB 5.1 MB/s eta 0:00:01\r\u001b[K     |█▌                              | 81 kB 5.7 MB/s eta 0:00:01\r\u001b[K     |█▊                              | 92 kB 5.6 MB/s eta 0:00:01\r\u001b[K     |██                              | 102 kB 5.2 MB/s eta 0:00:01\r\u001b[K     |██▏                             | 112 kB 5.2 MB/s eta 0:00:01\r\u001b[K     |██▎                             | 122 kB 5.2 MB/s eta 0:00:01\r\u001b[K     |██▌                             | 133 kB 5.2 MB/s eta 0:00:01\r\u001b[K     |██▊                             | 143 kB 5.2 MB/s eta 0:00:01\r\u001b[K     |███                             | 153 kB 5.2 MB/s eta 0:00:01\r\u001b[K     |███                             | 163 kB 5.2 MB/s eta 0:00:01\r\u001b[K     |███▎                            | 174 kB 5.2 MB/s eta 0:00:01\r\u001b[K     |███▌                            | 184 kB 5.2 MB/s eta 0:00:01\r\u001b[K     |███▊                            | 194 kB 5.2 MB/s eta 0:00:01\r\u001b[K     |███▉                            | 204 kB 5.2 MB/s eta 0:00:01\r\u001b[K     |████                            | 215 kB 5.2 MB/s eta 0:00:01\r\u001b[K     |████▎                           | 225 kB 5.2 MB/s eta 0:00:01\r\u001b[K     |████▌                           | 235 kB 5.2 MB/s eta 0:00:01\r\u001b[K     |████▋                           | 245 kB 5.2 MB/s eta 0:00:01\r\u001b[K     |████▉                           | 256 kB 5.2 MB/s eta 0:00:01\r\u001b[K     |█████                           | 266 kB 5.2 MB/s eta 0:00:01\r\u001b[K     |█████▎                          | 276 kB 5.2 MB/s eta 0:00:01\r\u001b[K     |█████▍                          | 286 kB 5.2 MB/s eta 0:00:01\r\u001b[K     |█████▋                          | 296 kB 5.2 MB/s eta 0:00:01\r\u001b[K     |█████▉                          | 307 kB 5.2 MB/s eta 0:00:01\r\u001b[K     |██████                          | 317 kB 5.2 MB/s eta 0:00:01\r\u001b[K     |██████▏                         | 327 kB 5.2 MB/s eta 0:00:01\r\u001b[K     |██████▍                         | 337 kB 5.2 MB/s eta 0:00:01\r\u001b[K     |██████▋                         | 348 kB 5.2 MB/s eta 0:00:01\r\u001b[K     |██████▉                         | 358 kB 5.2 MB/s eta 0:00:01\r\u001b[K     |███████                         | 368 kB 5.2 MB/s eta 0:00:01\r\u001b[K     |███████▏                        | 378 kB 5.2 MB/s eta 0:00:01\r\u001b[K     |███████▍                        | 389 kB 5.2 MB/s eta 0:00:01\r\u001b[K     |███████▋                        | 399 kB 5.2 MB/s eta 0:00:01\r\u001b[K     |███████▊                        | 409 kB 5.2 MB/s eta 0:00:01\r\u001b[K     |████████                        | 419 kB 5.2 MB/s eta 0:00:01\r\u001b[K     |████████▏                       | 430 kB 5.2 MB/s eta 0:00:01\r\u001b[K     |████████▍                       | 440 kB 5.2 MB/s eta 0:00:01\r\u001b[K     |████████▌                       | 450 kB 5.2 MB/s eta 0:00:01\r\u001b[K     |████████▊                       | 460 kB 5.2 MB/s eta 0:00:01\r\u001b[K     |█████████                       | 471 kB 5.2 MB/s eta 0:00:01\r\u001b[K     |█████████                       | 481 kB 5.2 MB/s eta 0:00:01\r\u001b[K     |█████████▎                      | 491 kB 5.2 MB/s eta 0:00:01\r\u001b[K     |█████████▌                      | 501 kB 5.2 MB/s eta 0:00:01\r\u001b[K     |█████████▊                      | 512 kB 5.2 MB/s eta 0:00:01\r\u001b[K     |█████████▉                      | 522 kB 5.2 MB/s eta 0:00:01\r\u001b[K     |██████████                      | 532 kB 5.2 MB/s eta 0:00:01\r\u001b[K     |██████████▎                     | 542 kB 5.2 MB/s eta 0:00:01\r\u001b[K     |██████████▌                     | 552 kB 5.2 MB/s eta 0:00:01\r\u001b[K     |██████████▋                     | 563 kB 5.2 MB/s eta 0:00:01\r\u001b[K     |██████████▉                     | 573 kB 5.2 MB/s eta 0:00:01\r\u001b[K     |███████████                     | 583 kB 5.2 MB/s eta 0:00:01\r\u001b[K     |███████████▎                    | 593 kB 5.2 MB/s eta 0:00:01\r\u001b[K     |███████████▍                    | 604 kB 5.2 MB/s eta 0:00:01\r\u001b[K     |███████████▋                    | 614 kB 5.2 MB/s eta 0:00:01\r\u001b[K     |███████████▉                    | 624 kB 5.2 MB/s eta 0:00:01\r\u001b[K     |████████████                    | 634 kB 5.2 MB/s eta 0:00:01\r\u001b[K     |████████████▏                   | 645 kB 5.2 MB/s eta 0:00:01\r\u001b[K     |████████████▍                   | 655 kB 5.2 MB/s eta 0:00:01\r\u001b[K     |████████████▋                   | 665 kB 5.2 MB/s eta 0:00:01\r\u001b[K     |████████████▉                   | 675 kB 5.2 MB/s eta 0:00:01\r\u001b[K     |█████████████                   | 686 kB 5.2 MB/s eta 0:00:01\r\u001b[K     |█████████████▏                  | 696 kB 5.2 MB/s eta 0:00:01\r\u001b[K     |█████████████▍                  | 706 kB 5.2 MB/s eta 0:00:01\r\u001b[K     |█████████████▋                  | 716 kB 5.2 MB/s eta 0:00:01\r\u001b[K     |█████████████▊                  | 727 kB 5.2 MB/s eta 0:00:01\r\u001b[K     |██████████████                  | 737 kB 5.2 MB/s eta 0:00:01\r\u001b[K     |██████████████▏                 | 747 kB 5.2 MB/s eta 0:00:01\r\u001b[K     |██████████████▍                 | 757 kB 5.2 MB/s eta 0:00:01\r\u001b[K     |██████████████▌                 | 768 kB 5.2 MB/s eta 0:00:01\r\u001b[K     |██████████████▊                 | 778 kB 5.2 MB/s eta 0:00:01\r\u001b[K     |███████████████                 | 788 kB 5.2 MB/s eta 0:00:01\r\u001b[K     |███████████████▏                | 798 kB 5.2 MB/s eta 0:00:01\r\u001b[K     |███████████████▎                | 808 kB 5.2 MB/s eta 0:00:01\r\u001b[K     |███████████████▌                | 819 kB 5.2 MB/s eta 0:00:01\r\u001b[K     |███████████████▊                | 829 kB 5.2 MB/s eta 0:00:01\r\u001b[K     |████████████████                | 839 kB 5.2 MB/s eta 0:00:01\r\u001b[K     |████████████████                | 849 kB 5.2 MB/s eta 0:00:01\r\u001b[K     |████████████████▎               | 860 kB 5.2 MB/s eta 0:00:01\r\u001b[K     |████████████████▌               | 870 kB 5.2 MB/s eta 0:00:01\r\u001b[K     |████████████████▊               | 880 kB 5.2 MB/s eta 0:00:01\r\u001b[K     |████████████████▉               | 890 kB 5.2 MB/s eta 0:00:01\r\u001b[K     |█████████████████               | 901 kB 5.2 MB/s eta 0:00:01\r\u001b[K     |█████████████████▎              | 911 kB 5.2 MB/s eta 0:00:01\r\u001b[K     |█████████████████▍              | 921 kB 5.2 MB/s eta 0:00:01\r\u001b[K     |█████████████████▋              | 931 kB 5.2 MB/s eta 0:00:01\r\u001b[K     |█████████████████▉              | 942 kB 5.2 MB/s eta 0:00:01\r\u001b[K     |██████████████████              | 952 kB 5.2 MB/s eta 0:00:01\r\u001b[K     |██████████████████▏             | 962 kB 5.2 MB/s eta 0:00:01\r\u001b[K     |██████████████████▍             | 972 kB 5.2 MB/s eta 0:00:01\r\u001b[K     |██████████████████▋             | 983 kB 5.2 MB/s eta 0:00:01\r\u001b[K     |██████████████████▉             | 993 kB 5.2 MB/s eta 0:00:01\r\u001b[K     |███████████████████             | 1.0 MB 5.2 MB/s eta 0:00:01\r\u001b[K     |███████████████████▏            | 1.0 MB 5.2 MB/s eta 0:00:01\r\u001b[K     |███████████████████▍            | 1.0 MB 5.2 MB/s eta 0:00:01\r\u001b[K     |███████████████████▋            | 1.0 MB 5.2 MB/s eta 0:00:01\r\u001b[K     |███████████████████▊            | 1.0 MB 5.2 MB/s eta 0:00:01\r\u001b[K     |████████████████████            | 1.1 MB 5.2 MB/s eta 0:00:01\r\u001b[K     |████████████████████▏           | 1.1 MB 5.2 MB/s eta 0:00:01\r\u001b[K     |████████████████████▍           | 1.1 MB 5.2 MB/s eta 0:00:01\r\u001b[K     |████████████████████▌           | 1.1 MB 5.2 MB/s eta 0:00:01\r\u001b[K     |████████████████████▊           | 1.1 MB 5.2 MB/s eta 0:00:01\r\u001b[K     |█████████████████████           | 1.1 MB 5.2 MB/s eta 0:00:01\r\u001b[K     |█████████████████████▏          | 1.1 MB 5.2 MB/s eta 0:00:01\r\u001b[K     |█████████████████████▎          | 1.1 MB 5.2 MB/s eta 0:00:01\r\u001b[K     |█████████████████████▌          | 1.1 MB 5.2 MB/s eta 0:00:01\r\u001b[K     |█████████████████████▊          | 1.1 MB 5.2 MB/s eta 0:00:01\r\u001b[K     |██████████████████████          | 1.2 MB 5.2 MB/s eta 0:00:01\r\u001b[K     |██████████████████████          | 1.2 MB 5.2 MB/s eta 0:00:01\r\u001b[K     |██████████████████████▎         | 1.2 MB 5.2 MB/s eta 0:00:01\r\u001b[K     |██████████████████████▌         | 1.2 MB 5.2 MB/s eta 0:00:01\r\u001b[K     |██████████████████████▊         | 1.2 MB 5.2 MB/s eta 0:00:01\r\u001b[K     |██████████████████████▉         | 1.2 MB 5.2 MB/s eta 0:00:01\r\u001b[K     |███████████████████████         | 1.2 MB 5.2 MB/s eta 0:00:01\r\u001b[K     |███████████████████████▎        | 1.2 MB 5.2 MB/s eta 0:00:01\r\u001b[K     |███████████████████████▌        | 1.2 MB 5.2 MB/s eta 0:00:01\r\u001b[K     |███████████████████████▋        | 1.2 MB 5.2 MB/s eta 0:00:01\r\u001b[K     |███████████████████████▉        | 1.3 MB 5.2 MB/s eta 0:00:01\r\u001b[K     |████████████████████████        | 1.3 MB 5.2 MB/s eta 0:00:01\r\u001b[K     |████████████████████████▎       | 1.3 MB 5.2 MB/s eta 0:00:01\r\u001b[K     |████████████████████████▍       | 1.3 MB 5.2 MB/s eta 0:00:01\r\u001b[K     |████████████████████████▋       | 1.3 MB 5.2 MB/s eta 0:00:01\r\u001b[K     |████████████████████████▉       | 1.3 MB 5.2 MB/s eta 0:00:01\r\u001b[K     |█████████████████████████       | 1.3 MB 5.2 MB/s eta 0:00:01\r\u001b[K     |█████████████████████████▏      | 1.3 MB 5.2 MB/s eta 0:00:01\r\u001b[K     |█████████████████████████▍      | 1.3 MB 5.2 MB/s eta 0:00:01\r\u001b[K     |█████████████████████████▋      | 1.4 MB 5.2 MB/s eta 0:00:01\r\u001b[K     |█████████████████████████▊      | 1.4 MB 5.2 MB/s eta 0:00:01\r\u001b[K     |██████████████████████████      | 1.4 MB 5.2 MB/s eta 0:00:01\r\u001b[K     |██████████████████████████▏     | 1.4 MB 5.2 MB/s eta 0:00:01\r\u001b[K     |██████████████████████████▍     | 1.4 MB 5.2 MB/s eta 0:00:01\r\u001b[K     |██████████████████████████▌     | 1.4 MB 5.2 MB/s eta 0:00:01\r\u001b[K     |██████████████████████████▊     | 1.4 MB 5.2 MB/s eta 0:00:01\r\u001b[K     |███████████████████████████     | 1.4 MB 5.2 MB/s eta 0:00:01\r\u001b[K     |███████████████████████████▏    | 1.4 MB 5.2 MB/s eta 0:00:01\r\u001b[K     |███████████████████████████▎    | 1.4 MB 5.2 MB/s eta 0:00:01\r\u001b[K     |███████████████████████████▌    | 1.5 MB 5.2 MB/s eta 0:00:01\r\u001b[K     |███████████████████████████▊    | 1.5 MB 5.2 MB/s eta 0:00:01\r\u001b[K     |████████████████████████████    | 1.5 MB 5.2 MB/s eta 0:00:01\r\u001b[K     |████████████████████████████    | 1.5 MB 5.2 MB/s eta 0:00:01\r\u001b[K     |████████████████████████████▎   | 1.5 MB 5.2 MB/s eta 0:00:01\r\u001b[K     |████████████████████████████▌   | 1.5 MB 5.2 MB/s eta 0:00:01\r\u001b[K     |████████████████████████████▊   | 1.5 MB 5.2 MB/s eta 0:00:01\r\u001b[K     |████████████████████████████▉   | 1.5 MB 5.2 MB/s eta 0:00:01\r\u001b[K     |█████████████████████████████   | 1.5 MB 5.2 MB/s eta 0:00:01\r\u001b[K     |█████████████████████████████▎  | 1.5 MB 5.2 MB/s eta 0:00:01\r\u001b[K     |█████████████████████████████▌  | 1.6 MB 5.2 MB/s eta 0:00:01\r\u001b[K     |█████████████████████████████▋  | 1.6 MB 5.2 MB/s eta 0:00:01\r\u001b[K     |█████████████████████████████▉  | 1.6 MB 5.2 MB/s eta 0:00:01\r\u001b[K     |██████████████████████████████  | 1.6 MB 5.2 MB/s eta 0:00:01\r\u001b[K     |██████████████████████████████▎ | 1.6 MB 5.2 MB/s eta 0:00:01\r\u001b[K     |██████████████████████████████▍ | 1.6 MB 5.2 MB/s eta 0:00:01\r\u001b[K     |██████████████████████████████▋ | 1.6 MB 5.2 MB/s eta 0:00:01\r\u001b[K     |██████████████████████████████▉ | 1.6 MB 5.2 MB/s eta 0:00:01\r\u001b[K     |███████████████████████████████ | 1.6 MB 5.2 MB/s eta 0:00:01\r\u001b[K     |███████████████████████████████▏| 1.6 MB 5.2 MB/s eta 0:00:01\r\u001b[K     |███████████████████████████████▍| 1.7 MB 5.2 MB/s eta 0:00:01\r\u001b[K     |███████████████████████████████▋| 1.7 MB 5.2 MB/s eta 0:00:01\r\u001b[K     |███████████████████████████████▉| 1.7 MB 5.2 MB/s eta 0:00:01\r\u001b[K     |████████████████████████████████| 1.7 MB 5.2 MB/s eta 0:00:01\r\u001b[K     |████████████████████████████████| 1.7 MB 5.2 MB/s \n",
            "\u001b[?25hRequirement already satisfied: psutil>=5.0.0 in /usr/local/lib/python3.7/dist-packages (from wandb) (5.4.8)\n",
            "Collecting pathtools\n",
            "  Downloading pathtools-0.1.2.tar.gz (11 kB)\n",
            "Requirement already satisfied: promise<3,>=2.0 in /usr/local/lib/python3.7/dist-packages (from wandb) (2.3)\n",
            "Collecting shortuuid>=0.5.0\n",
            "  Downloading shortuuid-1.0.8-py3-none-any.whl (9.5 kB)\n",
            "Requirement already satisfied: six>=1.13.0 in /usr/local/lib/python3.7/dist-packages (from wandb) (1.15.0)\n",
            "Collecting docker-pycreds>=0.4.0\n",
            "  Downloading docker_pycreds-0.4.0-py2.py3-none-any.whl (9.0 kB)\n",
            "Requirement already satisfied: Click!=8.0.0,>=7.0 in /usr/local/lib/python3.7/dist-packages (from wandb) (7.1.2)\n",
            "Collecting sentry-sdk>=1.0.0\n",
            "  Downloading sentry_sdk-1.5.0-py2.py3-none-any.whl (140 kB)\n",
            "\u001b[K     |████████████████████████████████| 140 kB 41.5 MB/s \n",
            "\u001b[?25hRequirement already satisfied: PyYAML in /usr/local/lib/python3.7/dist-packages (from wandb) (3.13)\n",
            "Requirement already satisfied: python-dateutil>=2.6.1 in /usr/local/lib/python3.7/dist-packages (from wandb) (2.8.2)\n",
            "Collecting configparser>=3.8.1\n",
            "  Downloading configparser-5.2.0-py3-none-any.whl (19 kB)\n",
            "Requirement already satisfied: requests<3,>=2.0.0 in /usr/local/lib/python3.7/dist-packages (from wandb) (2.23.0)\n",
            "Requirement already satisfied: protobuf>=3.12.0 in /usr/local/lib/python3.7/dist-packages (from wandb) (3.17.3)\n",
            "Collecting yaspin>=1.0.0\n",
            "  Downloading yaspin-2.1.0-py3-none-any.whl (18 kB)\n",
            "Requirement already satisfied: GitPython>=1.0.0 in /usr/local/lib/python3.7/dist-packages (from wandb) (3.1.24)\n",
            "Collecting subprocess32>=3.5.3\n",
            "  Downloading subprocess32-3.5.4.tar.gz (97 kB)\n",
            "\u001b[K     |████████████████████████████████| 97 kB 6.6 MB/s \n",
            "\u001b[?25hRequirement already satisfied: typing-extensions>=3.7.4.3 in /usr/local/lib/python3.7/dist-packages (from GitPython>=1.0.0->wandb) (3.10.0.2)\n",
            "Requirement already satisfied: gitdb<5,>=4.0.1 in /usr/local/lib/python3.7/dist-packages (from GitPython>=1.0.0->wandb) (4.0.9)\n",
            "Requirement already satisfied: smmap<6,>=3.0.1 in /usr/local/lib/python3.7/dist-packages (from gitdb<5,>=4.0.1->GitPython>=1.0.0->wandb) (5.0.0)\n",
            "Requirement already satisfied: idna<3,>=2.5 in /usr/local/lib/python3.7/dist-packages (from requests<3,>=2.0.0->wandb) (2.10)\n",
            "Requirement already satisfied: urllib3!=1.25.0,!=1.25.1,<1.26,>=1.21.1 in /usr/local/lib/python3.7/dist-packages (from requests<3,>=2.0.0->wandb) (1.25.11)\n",
            "Requirement already satisfied: certifi>=2017.4.17 in /usr/local/lib/python3.7/dist-packages (from requests<3,>=2.0.0->wandb) (2021.10.8)\n",
            "Requirement already satisfied: chardet<4,>=3.0.2 in /usr/local/lib/python3.7/dist-packages (from requests<3,>=2.0.0->wandb) (3.0.4)\n",
            "Requirement already satisfied: termcolor<2.0.0,>=1.1.0 in /usr/local/lib/python3.7/dist-packages (from yaspin>=1.0.0->wandb) (1.1.0)\n",
            "Building wheels for collected packages: subprocess32, pathtools\n",
            "  Building wheel for subprocess32 (setup.py) ... \u001b[?25l\u001b[?25hdone\n",
            "  Created wheel for subprocess32: filename=subprocess32-3.5.4-py3-none-any.whl size=6502 sha256=eb0b81c3ad556997d612871789e9255e9c4c543b79ceae99b264efe1991e097b\n",
            "  Stored in directory: /root/.cache/pip/wheels/50/ca/fa/8fca8d246e64f19488d07567547ddec8eb084e8c0d7a59226a\n",
            "  Building wheel for pathtools (setup.py) ... \u001b[?25l\u001b[?25hdone\n",
            "  Created wheel for pathtools: filename=pathtools-0.1.2-py3-none-any.whl size=8807 sha256=cc33e704d2d8cbea41eb9c97f9785d982ee23e5e18b80f22d5d84f776eeffa26\n",
            "  Stored in directory: /root/.cache/pip/wheels/3e/31/09/fa59cef12cdcfecc627b3d24273699f390e71828921b2cbba2\n",
            "Successfully built subprocess32 pathtools\n",
            "Installing collected packages: yaspin, subprocess32, shortuuid, sentry-sdk, pathtools, docker-pycreds, configparser, wandb\n",
            "Successfully installed configparser-5.2.0 docker-pycreds-0.4.0 pathtools-0.1.2 sentry-sdk-1.5.0 shortuuid-1.0.8 subprocess32-3.5.4 wandb-0.12.7 yaspin-2.1.0\n",
            "\u001b[34m\u001b[1mwandb\u001b[0m: You can find your API key in your browser here: https://wandb.ai/authorize\n",
            "\u001b[34m\u001b[1mwandb\u001b[0m: Paste an API key from your profile and hit enter, or press ctrl+c to quit: \n",
            "\u001b[34m\u001b[1mwandb\u001b[0m: Appending key for api.wandb.ai to your netrc file: /root/.netrc\n"
          ]
        }
      ],
      "source": [
        "\n",
        "!pip install wandb\n",
        "!wandb login"
      ]
    },
    {
      "cell_type": "code",
      "execution_count": null,
      "metadata": {
        "colab": {
          "base_uri": "https://localhost:8080/"
        },
        "id": "vl-pMD7CBOkN",
        "outputId": "35860116-e643-4cef-8ccb-b749f07ec285"
      },
      "outputs": [
        {
          "output_type": "stream",
          "name": "stdout",
          "text": [
            "\u001b[34m\u001b[1mwandb\u001b[0m: You can find your API key in your browser here: https://wandb.ai/authorize\n",
            "\u001b[34m\u001b[1mwandb\u001b[0m: Paste an API key from your profile and hit enter, or press ctrl+c to quit: \n",
            "\u001b[34m\u001b[1mwandb\u001b[0m: Appending key for api.wandb.ai to your netrc file: /root/.netrc\n"
          ]
        }
      ],
      "source": [
        "!wandb login --relogin"
      ]
    },
    {
      "cell_type": "markdown",
      "metadata": {
        "id": "e_tf7UPBfUby"
      },
      "source": [
        "We need to pass it to the `callbacks` argument. "
      ]
    },
    {
      "cell_type": "code",
      "execution_count": null,
      "metadata": {
        "id": "t_RYLeY4fUbz",
        "colab": {
          "base_uri": "https://localhost:8080/",
          "height": 1000
        },
        "outputId": "e065fbda-ad17-492e-fecd-5ef12d6119e5"
      },
      "outputs": [
        {
          "metadata": {
            "tags": null
          },
          "name": "stderr",
          "output_type": "stream",
          "text": [
            "\u001b[34m\u001b[1mwandb\u001b[0m: Currently logged in as: \u001b[33mashwiniy-02\u001b[0m (use `wandb login --relogin` to force relogin)\n"
          ]
        },
        {
          "data": {
            "text/html": [
              "\n",
              "                    Syncing run <strong><a href=\"https://wandb.ai/ashwiniy-02/FinalProject/runs/28lmb3ti\" target=\"_blank\">feasible-violet-3</a></strong> to <a href=\"https://wandb.ai/ashwiniy-02/FinalProject\" target=\"_blank\">Weights & Biases</a> (<a href=\"https://docs.wandb.com/integrations/jupyter.html\" target=\"_blank\">docs</a>).<br/>\n",
              "\n",
              "                "
            ],
            "text/plain": [
              "<IPython.core.display.HTML object>"
            ]
          },
          "metadata": {},
          "output_type": "display_data"
        },
        {
          "output_type": "stream",
          "name": "stdout",
          "text": [
            "Epoch 1/100\n",
            "157/157 [==============================] - 5s 29ms/step - loss: 0.6923 - accuracy: 0.5156 - val_loss: 0.6904 - val_accuracy: 0.5572\n",
            "Epoch 2/100\n",
            "157/157 [==============================] - 4s 27ms/step - loss: 0.6893 - accuracy: 0.5501 - val_loss: 0.6860 - val_accuracy: 0.6187\n",
            "Epoch 3/100\n",
            "157/157 [==============================] - 4s 27ms/step - loss: 0.6844 - accuracy: 0.5902 - val_loss: 0.6771 - val_accuracy: 0.6768\n",
            "Epoch 4/100\n",
            "157/157 [==============================] - 4s 27ms/step - loss: 0.6749 - accuracy: 0.6308 - val_loss: 0.6604 - val_accuracy: 0.7254\n",
            "Epoch 5/100\n",
            "157/157 [==============================] - 4s 27ms/step - loss: 0.6574 - accuracy: 0.6686 - val_loss: 0.6316 - val_accuracy: 0.7546\n",
            "Epoch 6/100\n",
            "157/157 [==============================] - 4s 27ms/step - loss: 0.6276 - accuracy: 0.7047 - val_loss: 0.5852 - val_accuracy: 0.7870\n",
            "Epoch 7/100\n",
            "157/157 [==============================] - 4s 27ms/step - loss: 0.5842 - accuracy: 0.7382 - val_loss: 0.5250 - val_accuracy: 0.8047\n",
            "Epoch 8/100\n",
            "157/157 [==============================] - 4s 27ms/step - loss: 0.5325 - accuracy: 0.7668 - val_loss: 0.4655 - val_accuracy: 0.8198\n",
            "Epoch 9/100\n",
            "157/157 [==============================] - 4s 27ms/step - loss: 0.4834 - accuracy: 0.7918 - val_loss: 0.4184 - val_accuracy: 0.8341\n",
            "Epoch 10/100\n",
            "157/157 [==============================] - 4s 27ms/step - loss: 0.4469 - accuracy: 0.8101 - val_loss: 0.3867 - val_accuracy: 0.8436\n",
            "Epoch 11/100\n",
            "157/157 [==============================] - 4s 27ms/step - loss: 0.4124 - accuracy: 0.8261 - val_loss: 0.3625 - val_accuracy: 0.8525\n",
            "Epoch 12/100\n",
            "157/157 [==============================] - 4s 27ms/step - loss: 0.3914 - accuracy: 0.8360 - val_loss: 0.3471 - val_accuracy: 0.8571\n",
            "Epoch 13/100\n",
            "157/157 [==============================] - 4s 27ms/step - loss: 0.3719 - accuracy: 0.8462 - val_loss: 0.3332 - val_accuracy: 0.8633\n",
            "Epoch 14/100\n",
            "157/157 [==============================] - 4s 27ms/step - loss: 0.3532 - accuracy: 0.8555 - val_loss: 0.3222 - val_accuracy: 0.8660\n",
            "Epoch 15/100\n",
            "157/157 [==============================] - 4s 27ms/step - loss: 0.3398 - accuracy: 0.8630 - val_loss: 0.3148 - val_accuracy: 0.8683\n",
            "Epoch 16/100\n",
            "157/157 [==============================] - 4s 27ms/step - loss: 0.3267 - accuracy: 0.8684 - val_loss: 0.3086 - val_accuracy: 0.8708\n",
            "Epoch 17/100\n",
            "157/157 [==============================] - 4s 26ms/step - loss: 0.3166 - accuracy: 0.8721 - val_loss: 0.3019 - val_accuracy: 0.8723\n",
            "Epoch 18/100\n",
            "157/157 [==============================] - 4s 27ms/step - loss: 0.3054 - accuracy: 0.8779 - val_loss: 0.2978 - val_accuracy: 0.8745\n",
            "Epoch 19/100\n",
            "157/157 [==============================] - 4s 27ms/step - loss: 0.3001 - accuracy: 0.8802 - val_loss: 0.2932 - val_accuracy: 0.8751\n",
            "Epoch 20/100\n",
            "157/157 [==============================] - 4s 27ms/step - loss: 0.2916 - accuracy: 0.8855 - val_loss: 0.2898 - val_accuracy: 0.8776\n",
            "Epoch 21/100\n",
            "157/157 [==============================] - 4s 27ms/step - loss: 0.2830 - accuracy: 0.8897 - val_loss: 0.2859 - val_accuracy: 0.8779\n",
            "Epoch 22/100\n",
            "157/157 [==============================] - 4s 27ms/step - loss: 0.2790 - accuracy: 0.8909 - val_loss: 0.2852 - val_accuracy: 0.8805\n",
            "Epoch 23/100\n",
            "157/157 [==============================] - 4s 27ms/step - loss: 0.2710 - accuracy: 0.8948 - val_loss: 0.2835 - val_accuracy: 0.8794\n",
            "Epoch 24/100\n",
            "157/157 [==============================] - 4s 27ms/step - loss: 0.2645 - accuracy: 0.8969 - val_loss: 0.2822 - val_accuracy: 0.8816\n",
            "Epoch 25/100\n",
            "157/157 [==============================] - 5s 29ms/step - loss: 0.2603 - accuracy: 0.8991 - val_loss: 0.2779 - val_accuracy: 0.8829\n",
            "Epoch 26/100\n",
            "157/157 [==============================] - 4s 27ms/step - loss: 0.2537 - accuracy: 0.9022 - val_loss: 0.2780 - val_accuracy: 0.8821\n",
            "Epoch 27/100\n",
            "157/157 [==============================] - 4s 27ms/step - loss: 0.2488 - accuracy: 0.9031 - val_loss: 0.2818 - val_accuracy: 0.8805\n",
            "Epoch 28/100\n",
            "157/157 [==============================] - 4s 29ms/step - loss: 0.2437 - accuracy: 0.9053 - val_loss: 0.2758 - val_accuracy: 0.8842\n",
            "Epoch 29/100\n",
            "157/157 [==============================] - 4s 27ms/step - loss: 0.2387 - accuracy: 0.9073 - val_loss: 0.2749 - val_accuracy: 0.8848\n",
            "Epoch 30/100\n",
            "157/157 [==============================] - 4s 27ms/step - loss: 0.2358 - accuracy: 0.9107 - val_loss: 0.2746 - val_accuracy: 0.8855\n",
            "Epoch 31/100\n",
            "157/157 [==============================] - 4s 27ms/step - loss: 0.2315 - accuracy: 0.9107 - val_loss: 0.2741 - val_accuracy: 0.8861\n",
            "Epoch 32/100\n",
            "157/157 [==============================] - 4s 27ms/step - loss: 0.2258 - accuracy: 0.9143 - val_loss: 0.2742 - val_accuracy: 0.8848\n",
            "Epoch 33/100\n",
            "157/157 [==============================] - 4s 27ms/step - loss: 0.2220 - accuracy: 0.9153 - val_loss: 0.2782 - val_accuracy: 0.8856\n",
            "Epoch 34/100\n",
            "157/157 [==============================] - 4s 27ms/step - loss: 0.2170 - accuracy: 0.9188 - val_loss: 0.2746 - val_accuracy: 0.8877\n",
            "Epoch 35/100\n",
            "157/157 [==============================] - 4s 27ms/step - loss: 0.2140 - accuracy: 0.9200 - val_loss: 0.2759 - val_accuracy: 0.8869\n",
            "Epoch 36/100\n",
            "157/157 [==============================] - 4s 27ms/step - loss: 0.2102 - accuracy: 0.9228 - val_loss: 0.2741 - val_accuracy: 0.8881\n",
            "Epoch 37/100\n",
            "157/157 [==============================] - 4s 27ms/step - loss: 0.2048 - accuracy: 0.9237 - val_loss: 0.2861 - val_accuracy: 0.8836\n",
            "Epoch 38/100\n",
            "157/157 [==============================] - 4s 27ms/step - loss: 0.2013 - accuracy: 0.9252 - val_loss: 0.2746 - val_accuracy: 0.8881\n",
            "Epoch 39/100\n",
            "157/157 [==============================] - 4s 27ms/step - loss: 0.1972 - accuracy: 0.9267 - val_loss: 0.2819 - val_accuracy: 0.8854\n",
            "Epoch 40/100\n",
            "157/157 [==============================] - 4s 27ms/step - loss: 0.1951 - accuracy: 0.9279 - val_loss: 0.2764 - val_accuracy: 0.8882\n",
            "Epoch 41/100\n",
            "157/157 [==============================] - 4s 27ms/step - loss: 0.1900 - accuracy: 0.9309 - val_loss: 0.2784 - val_accuracy: 0.8874\n",
            "Epoch 42/100\n",
            "157/157 [==============================] - 4s 27ms/step - loss: 0.1874 - accuracy: 0.9326 - val_loss: 0.2829 - val_accuracy: 0.8868\n",
            "Epoch 43/100\n",
            "157/157 [==============================] - 4s 27ms/step - loss: 0.1817 - accuracy: 0.9346 - val_loss: 0.2785 - val_accuracy: 0.8878\n",
            "Epoch 44/100\n",
            "157/157 [==============================] - 4s 27ms/step - loss: 0.1797 - accuracy: 0.9360 - val_loss: 0.2788 - val_accuracy: 0.8883\n",
            "Epoch 45/100\n",
            "157/157 [==============================] - 4s 27ms/step - loss: 0.1742 - accuracy: 0.9387 - val_loss: 0.2775 - val_accuracy: 0.8893\n",
            "Epoch 46/100\n",
            "157/157 [==============================] - 4s 27ms/step - loss: 0.1725 - accuracy: 0.9395 - val_loss: 0.2861 - val_accuracy: 0.8879\n",
            "Epoch 47/100\n",
            "157/157 [==============================] - 4s 27ms/step - loss: 0.1687 - accuracy: 0.9399 - val_loss: 0.2921 - val_accuracy: 0.8856\n",
            "Epoch 48/100\n",
            "157/157 [==============================] - 4s 27ms/step - loss: 0.1639 - accuracy: 0.9421 - val_loss: 0.2893 - val_accuracy: 0.8864\n",
            "Epoch 49/100\n",
            "157/157 [==============================] - 4s 27ms/step - loss: 0.1632 - accuracy: 0.9428 - val_loss: 0.2839 - val_accuracy: 0.8898\n",
            "Epoch 50/100\n",
            "157/157 [==============================] - 4s 27ms/step - loss: 0.1582 - accuracy: 0.9443 - val_loss: 0.2864 - val_accuracy: 0.8873\n",
            "Epoch 51/100\n",
            "157/157 [==============================] - 4s 26ms/step - loss: 0.1546 - accuracy: 0.9459 - val_loss: 0.2875 - val_accuracy: 0.8901\n",
            "Epoch 52/100\n",
            "157/157 [==============================] - 4s 27ms/step - loss: 0.1503 - accuracy: 0.9477 - val_loss: 0.2871 - val_accuracy: 0.8902\n",
            "Epoch 53/100\n",
            "157/157 [==============================] - 4s 27ms/step - loss: 0.1498 - accuracy: 0.9488 - val_loss: 0.2869 - val_accuracy: 0.8900\n",
            "Epoch 54/100\n",
            "157/157 [==============================] - 4s 27ms/step - loss: 0.1430 - accuracy: 0.9521 - val_loss: 0.2987 - val_accuracy: 0.8884\n",
            "Epoch 55/100\n",
            "157/157 [==============================] - 4s 26ms/step - loss: 0.1401 - accuracy: 0.9519 - val_loss: 0.2924 - val_accuracy: 0.8883\n",
            "Epoch 56/100\n",
            "157/157 [==============================] - 4s 27ms/step - loss: 0.1363 - accuracy: 0.9535 - val_loss: 0.2972 - val_accuracy: 0.8881\n",
            "Epoch 57/100\n",
            "157/157 [==============================] - 4s 27ms/step - loss: 0.1336 - accuracy: 0.9550 - val_loss: 0.2933 - val_accuracy: 0.8907\n",
            "Epoch 58/100\n",
            "157/157 [==============================] - 4s 27ms/step - loss: 0.1294 - accuracy: 0.9578 - val_loss: 0.2956 - val_accuracy: 0.8879\n",
            "Epoch 59/100\n",
            "157/157 [==============================] - 4s 27ms/step - loss: 0.1262 - accuracy: 0.9578 - val_loss: 0.3007 - val_accuracy: 0.8875\n",
            "Epoch 60/100\n",
            "157/157 [==============================] - 4s 27ms/step - loss: 0.1224 - accuracy: 0.9602 - val_loss: 0.3019 - val_accuracy: 0.8904\n",
            "Epoch 61/100\n",
            "157/157 [==============================] - 4s 27ms/step - loss: 0.1221 - accuracy: 0.9603 - val_loss: 0.2987 - val_accuracy: 0.8891\n",
            "Epoch 62/100\n",
            "157/157 [==============================] - 4s 27ms/step - loss: 0.1188 - accuracy: 0.9613 - val_loss: 0.3084 - val_accuracy: 0.8883\n",
            "Epoch 63/100\n",
            "157/157 [==============================] - 4s 27ms/step - loss: 0.1162 - accuracy: 0.9624 - val_loss: 0.3043 - val_accuracy: 0.8894\n",
            "Epoch 64/100\n",
            "157/157 [==============================] - 4s 27ms/step - loss: 0.1137 - accuracy: 0.9634 - val_loss: 0.3121 - val_accuracy: 0.8902\n",
            "Epoch 65/100\n",
            "157/157 [==============================] - 4s 27ms/step - loss: 0.1091 - accuracy: 0.9650 - val_loss: 0.3153 - val_accuracy: 0.8871\n",
            "Epoch 66/100\n",
            "157/157 [==============================] - 4s 27ms/step - loss: 0.1073 - accuracy: 0.9657 - val_loss: 0.3207 - val_accuracy: 0.8890\n",
            "Epoch 67/100\n",
            "157/157 [==============================] - 4s 27ms/step - loss: 0.1035 - accuracy: 0.9665 - val_loss: 0.3286 - val_accuracy: 0.8859\n",
            "Epoch 68/100\n",
            "157/157 [==============================] - 4s 27ms/step - loss: 0.1007 - accuracy: 0.9682 - val_loss: 0.3191 - val_accuracy: 0.8894\n",
            "Epoch 69/100\n",
            "157/157 [==============================] - 4s 26ms/step - loss: 0.0989 - accuracy: 0.9698 - val_loss: 0.3240 - val_accuracy: 0.8875\n",
            "Epoch 70/100\n",
            "157/157 [==============================] - 4s 28ms/step - loss: 0.0972 - accuracy: 0.9695 - val_loss: 0.3507 - val_accuracy: 0.8807\n",
            "Epoch 71/100\n",
            "157/157 [==============================] - 4s 27ms/step - loss: 0.0951 - accuracy: 0.9703 - val_loss: 0.3293 - val_accuracy: 0.8889\n",
            "Epoch 72/100\n",
            "157/157 [==============================] - 4s 26ms/step - loss: 0.0909 - accuracy: 0.9718 - val_loss: 0.3371 - val_accuracy: 0.8865\n",
            "Epoch 73/100\n",
            "157/157 [==============================] - 4s 27ms/step - loss: 0.0883 - accuracy: 0.9724 - val_loss: 0.3332 - val_accuracy: 0.8899\n",
            "Epoch 74/100\n",
            "157/157 [==============================] - 4s 27ms/step - loss: 0.0867 - accuracy: 0.9725 - val_loss: 0.3380 - val_accuracy: 0.8868\n",
            "Epoch 75/100\n",
            "157/157 [==============================] - 4s 27ms/step - loss: 0.0829 - accuracy: 0.9757 - val_loss: 0.3320 - val_accuracy: 0.8883\n",
            "Epoch 76/100\n",
            "157/157 [==============================] - 4s 27ms/step - loss: 0.0822 - accuracy: 0.9752 - val_loss: 0.3416 - val_accuracy: 0.8904\n",
            "Epoch 77/100\n",
            "157/157 [==============================] - 4s 27ms/step - loss: 0.0804 - accuracy: 0.9758 - val_loss: 0.3424 - val_accuracy: 0.8877\n",
            "Epoch 78/100\n",
            "157/157 [==============================] - 4s 28ms/step - loss: 0.0776 - accuracy: 0.9763 - val_loss: 0.3452 - val_accuracy: 0.8875\n",
            "Epoch 79/100\n",
            "157/157 [==============================] - 4s 27ms/step - loss: 0.0755 - accuracy: 0.9776 - val_loss: 0.3491 - val_accuracy: 0.8895\n",
            "Epoch 80/100\n",
            "157/157 [==============================] - 4s 27ms/step - loss: 0.0740 - accuracy: 0.9778 - val_loss: 0.3495 - val_accuracy: 0.8885\n",
            "Epoch 81/100\n",
            "157/157 [==============================] - 5s 29ms/step - loss: 0.0720 - accuracy: 0.9788 - val_loss: 0.3521 - val_accuracy: 0.8888\n",
            "Epoch 82/100\n",
            "157/157 [==============================] - 5s 35ms/step - loss: 0.0704 - accuracy: 0.9795 - val_loss: 0.3569 - val_accuracy: 0.8870\n",
            "Epoch 83/100\n",
            "157/157 [==============================] - 4s 28ms/step - loss: 0.0672 - accuracy: 0.9802 - val_loss: 0.3557 - val_accuracy: 0.8873\n",
            "Epoch 84/100\n",
            "157/157 [==============================] - 4s 28ms/step - loss: 0.0660 - accuracy: 0.9802 - val_loss: 0.3596 - val_accuracy: 0.8884\n",
            "Epoch 85/100\n",
            "157/157 [==============================] - 4s 28ms/step - loss: 0.0642 - accuracy: 0.9811 - val_loss: 0.3607 - val_accuracy: 0.8887\n",
            "Epoch 86/100\n",
            "157/157 [==============================] - 4s 28ms/step - loss: 0.0628 - accuracy: 0.9822 - val_loss: 0.3652 - val_accuracy: 0.8890\n",
            "Epoch 87/100\n",
            "157/157 [==============================] - 4s 28ms/step - loss: 0.0608 - accuracy: 0.9822 - val_loss: 0.3672 - val_accuracy: 0.8871\n",
            "Epoch 88/100\n",
            "157/157 [==============================] - 4s 28ms/step - loss: 0.0597 - accuracy: 0.9824 - val_loss: 0.3744 - val_accuracy: 0.8883\n",
            "Epoch 89/100\n",
            "157/157 [==============================] - 4s 28ms/step - loss: 0.0582 - accuracy: 0.9831 - val_loss: 0.3794 - val_accuracy: 0.8872\n",
            "Epoch 90/100\n",
            "157/157 [==============================] - 4s 28ms/step - loss: 0.0556 - accuracy: 0.9827 - val_loss: 0.3713 - val_accuracy: 0.8879\n",
            "Epoch 91/100\n",
            "157/157 [==============================] - 4s 28ms/step - loss: 0.0567 - accuracy: 0.9829 - val_loss: 0.3800 - val_accuracy: 0.8870\n",
            "Epoch 92/100\n",
            "157/157 [==============================] - 4s 29ms/step - loss: 0.0525 - accuracy: 0.9844 - val_loss: 0.3796 - val_accuracy: 0.8874\n",
            "Epoch 93/100\n",
            "157/157 [==============================] - 4s 28ms/step - loss: 0.0538 - accuracy: 0.9848 - val_loss: 0.3786 - val_accuracy: 0.8876\n",
            "Epoch 94/100\n",
            "157/157 [==============================] - 4s 29ms/step - loss: 0.0496 - accuracy: 0.9864 - val_loss: 0.3840 - val_accuracy: 0.8860\n",
            "Epoch 95/100\n",
            "157/157 [==============================] - 4s 28ms/step - loss: 0.0493 - accuracy: 0.9860 - val_loss: 0.3924 - val_accuracy: 0.8864\n",
            "Epoch 96/100\n",
            "157/157 [==============================] - 4s 28ms/step - loss: 0.0475 - accuracy: 0.9870 - val_loss: 0.3912 - val_accuracy: 0.8875\n",
            "Epoch 97/100\n",
            "157/157 [==============================] - 4s 28ms/step - loss: 0.0474 - accuracy: 0.9863 - val_loss: 0.3884 - val_accuracy: 0.8873\n",
            "Epoch 98/100\n",
            "157/157 [==============================] - 4s 28ms/step - loss: 0.0465 - accuracy: 0.9869 - val_loss: 0.3923 - val_accuracy: 0.8871\n",
            "Epoch 99/100\n",
            "157/157 [==============================] - 4s 28ms/step - loss: 0.0438 - accuracy: 0.9883 - val_loss: 0.3941 - val_accuracy: 0.8880\n",
            "Epoch 100/100\n",
            "157/157 [==============================] - 4s 28ms/step - loss: 0.0422 - accuracy: 0.9886 - val_loss: 0.4037 - val_accuracy: 0.8877\n"
          ]
        }
      ],
      "source": [
        "import wandb\n",
        "from wandb.keras import WandbCallback\n",
        "\n",
        "wandb.init(project='FinalProject')\n",
        "\n",
        "# 2. Save model inputs and hyperparameters\n",
        "config = wandb.config\n",
        "config.learning_rate = 0.01\n",
        "\n",
        "results = model.fit(\n",
        " train_x, train_y,\n",
        " epochs= PARAMS['epoch_nr'],\n",
        " batch_size = PARAMS['batch_size'],\n",
        " validation_data = (test_x, test_y),\n",
        " callbacks=[WandbCallback()]\n",
        ")\n",
        "\n",
        "#model.fit(x_train, y_train,\n",
        "#         epochs=PARAMS['epoch_nr'],\n",
        "#         batch_size=PARAMS['batch_size'],\n",
        "#         callbacks=[NeptuneMonitor()])"
      ]
    },
    {
      "cell_type": "code",
      "execution_count": null,
      "metadata": {
        "id": "EMjbJN6YfUb1"
      },
      "outputs": [],
      "source": [
        ""
      ]
    }
  ],
  "metadata": {
    "colab": {
      "name": "WandB Monitor-TextData.ipynb",
      "provenance": [],
      "collapsed_sections": []
    },
    "kernelspec": {
      "display_name": "py_37",
      "language": "python",
      "name": "py_37"
    },
    "language_info": {
      "codemirror_mode": {
        "name": "ipython",
        "version": 3
      },
      "file_extension": ".py",
      "mimetype": "text/x-python",
      "name": "python",
      "nbconvert_exporter": "python",
      "pygments_lexer": "ipython3",
      "version": "3.7.7"
    }
  },
  "nbformat": 4,
  "nbformat_minor": 0
}